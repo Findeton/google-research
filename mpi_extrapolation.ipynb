{
 "cells": [
  {
   "cell_type": "code",
   "execution_count": null,
   "metadata": {},
   "outputs": [],
   "source": [
    "! apt update && apt install -y ffmpeg\n",
    "! cd mpi_extrapolation && pip install -r requirements.txt\n",
    "! pip install --upgrade pip\n",
    "! pip install ffmpeg"
   ]
  },
  {
   "cell_type": "code",
   "execution_count": null,
   "metadata": {},
   "outputs": [],
   "source": [
    "import tensorflow as tf\n",
    "print(tf.__version__)"
   ]
  },
  {
   "cell_type": "code",
   "execution_count": null,
   "metadata": {},
   "outputs": [],
   "source": [
    "! cd mpi_extrapolation && mkdir examples models\n",
    "! cd mpi_extrapolation/models && wget --load-cookies /tmp/cookies.txt \"https://docs.google.com/uc?export=download&confirm=$(wget --quiet --save-cookies /tmp/cookies.txt --keep-session-cookies --no-check-certificate 'https://docs.google.com/uc?export=download&id=1Mf3t2SAl7vhAK4LaAuiMLr7LRTLrA-oD' -O- | sed -rn 's/.*confirm=([0-9A-Za-z_]+).*/\\1\\n/p')&id=1Mf3t2SAl7vhAK4LaAuiMLr7LRTLrA-oD\" -O model.zip && rm -rf /tmp/cookies.txt\n",
    "! cd mpi_extrapolation/models && unzip model.zip\n",
    "! cd mpi_extrapolation/examples && wget --load-cookies /tmp/cookies.txt \"https://docs.google.com/uc?export=download&confirm=$(wget --quiet --save-cookies /tmp/cookies.txt --keep-session-cookies --no-check-certificate 'https://docs.google.com/uc?export=download&id=1xBpQzJwQJjx9fc1ild59IoQzIeevwAKx' -O- | sed -rn 's/.*confirm=([0-9A-Za-z_]+).*/\\1\\n/p')&id=1xBpQzJwQJjx9fc1ild59IoQzIeevwAKx\" -O examples.zip && rm -rf /tmp/cookies.txt\n",
    "! cd mpi_extrapolation/examples && unzip examples.zip"
   ]
  },
  {
   "cell_type": "code",
   "execution_count": null,
   "metadata": {},
   "outputs": [],
   "source": [
    "! mkdir -p mpi_extrapolation/outputs/dir/0/\n",
    "! python -m mpi_extrapolation.render_sway --input_file=\"mpi_extrapolation/examples/0.npz\" --output_dir=\"mpi_extrapolation/outputs/dir/0/\" --model_dir=\"mpi_extrapolation/models/\""
   ]
  }
 ],
 "metadata": {
  "kernelspec": {
   "display_name": "Python 3",
   "language": "python",
   "name": "python3"
  },
  "language_info": {
   "codemirror_mode": {
    "name": "ipython",
    "version": 3
   },
   "file_extension": ".py",
   "mimetype": "text/x-python",
   "name": "python",
   "nbconvert_exporter": "python",
   "pygments_lexer": "ipython3",
   "version": "3.6.8"
  }
 },
 "nbformat": 4,
 "nbformat_minor": 2
}
